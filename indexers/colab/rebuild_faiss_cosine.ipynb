{
  "cells": [
    {
      "cell_type": "code",
      "execution_count": null,
      "metadata": {
        "colab": {
          "base_uri": "https://localhost:8080/"
        },
        "id": "JWLB7uyAlCrb",
        "outputId": "85bd5278-6d05-4c5c-c4f9-3b41b04a6ad2"
      },
      "outputs": [
        {
          "name": "stdout",
          "output_type": "stream",
          "text": [
            "Drive already mounted at /content/drive; to attempt to forcibly remount, call drive.mount(\"/content/drive\", force_remount=True).\n"
          ]
        }
      ],
      "source": [
        "from google.colab import drive\n",
        "\n",
        "\n",
        "# Mount Google Drive\n",
        "drive.mount('/content/drive')"
      ]
    },
    {
      "cell_type": "code",
      "execution_count": null,
      "metadata": {
        "id": "mPySqdJDFfVf",
        "colab": {
          "base_uri": "https://localhost:8080/"
        },
        "outputId": "c6d1fb4a-e82a-489a-85ab-37508761143d"
      },
      "outputs": [
        {
          "output_type": "stream",
          "name": "stdout",
          "text": [
            "all_topics\t      faiss_rebuild_checkpoint.json  splade_vectors_v3.jsonl\n",
            "bm25_index.pkl\t      hybrid\t\t\t     test_topics\n",
            "csv\t\t      jsonl_docs\t\t     train_topics\n",
            "data\t\t      Prior_art_qrels.txt\t     wpi60k_docnos_cosine.npy\n",
            "data_sample\t      rankings.json\t\t     wpi60k_faiss_cosine.index\n",
            "eval_checkpoint.json  sample_extracted\n",
            "extracted\t      splade_vectors_v3_ids.jsonl\n"
          ]
        }
      ],
      "source": [
        "!ls /content/drive/MyDrive/WPI_60K/\n"
      ]
    },
    {
      "cell_type": "code",
      "execution_count": null,
      "metadata": {
        "id": "KbQMZSOHpZjF"
      },
      "outputs": [],
      "source": [
        "# Install faiss if it's not already installed\n",
        "try:\n",
        "    import faiss\n",
        "except ModuleNotFoundError:\n",
        "    print(\"Faiss not found. Installing faiss-cpu...\")\n",
        "    !pip install faiss-cpu\n",
        "    import faiss"
      ]
    },
    {
      "cell_type": "code",
      "execution_count": null,
      "metadata": {
        "colab": {
          "base_uri": "https://localhost:8080/",
          "height": 118,
          "referenced_widgets": [
            "0b56742ad57f46d8aa4e36e975d766f1",
            "a0a51f46f0b349d4bd030749b710e1cc",
            "39171a3b3d414439a30a0d243f11049b",
            "ebb8114de73a4c1b8a095d601c14fb39",
            "484b81b05a6042f1952f40972459f9ee",
            "fa5ac52639bc43119a794fe0d38dabbc",
            "304c0eab5eee43fa8409de2574e4e903",
            "c1b45ac6a72c40319b5f4f4d41a72695",
            "18ea3c9ec0fc44ee987f8ad61b1d118b",
            "d49a3a2a490043379519c4c4fca9c57f",
            "178665dc47154ffa860cfaf8ac46c75a"
          ]
        },
        "id": "p48vWWQp0FuV",
        "outputId": "ddd2da7c-f69b-4ecb-aef0-9fc14beecc33"
      },
      "outputs": [
        {
          "metadata": {
            "tags": null
          },
          "name": "stdout",
          "output_type": "stream",
          "text": [
            "\n",
            "🚀 Rebuilding FAISS index with cosine similarity\n"
          ]
        },
        {
          "data": {
            "application/vnd.jupyter.widget-view+json": {
              "model_id": "0b56742ad57f46d8aa4e36e975d766f1",
              "version_major": 2,
              "version_minor": 0
            },
            "text/plain": [
              "  0%|          | 0/63923 [00:00<?, ?it/s]"
            ]
          },
          "metadata": {},
          "output_type": "display_data"
        },
        {
          "output_type": "stream",
          "name": "stdout",
          "text": [
            "✅ Done encoding 63923 documents\n",
            "✅ Index and docnos saved. Total vectors: 63923, dim=384\n"
          ]
        }
      ],
      "source": [
        "# ✅ Rebuild FAISS Index for Cosine Similarity with Checkpoints (Colab-safe)\n",
        "import os\n",
        "import json\n",
        "import numpy as np\n",
        "import faiss\n",
        "from tqdm.notebook import tqdm\n",
        "from sentence_transformers import SentenceTransformer\n",
        "\n",
        "# === Paths ===\n",
        "DRIVE = \"/content/drive/MyDrive/WPI_60K\"\n",
        "INPUT_DIR = f\"{DRIVE}/extracted/extracted\"\n",
        "INDEX_PATH = f\"{DRIVE}/wpi60k_faiss_cosine.index\"\n",
        "DOCNO_PATH = f\"{DRIVE}/wpi60k_docnos_cosine.npy\"\n",
        "CHECKPOINT_PATH = f\"{DRIVE}/faiss_rebuild_checkpoint.json\"\n",
        "\n",
        "# === Model ===\n",
        "model = SentenceTransformer(\"sentence-transformers/all-MiniLM-L6-v2\")\n",
        "\n",
        "# === Checkpoint functions ===\n",
        "def load_checkpoint():\n",
        "    if os.path.exists(CHECKPOINT_PATH):\n",
        "        with open(CHECKPOINT_PATH, 'r') as f:\n",
        "            return json.load(f)\n",
        "    return {'processed': [], 'last_file': None}\n",
        "\n",
        "def save_checkpoint(state):\n",
        "    with open(CHECKPOINT_PATH, 'w') as f:\n",
        "        json.dump(state, f)\n",
        "\n",
        "\n",
        "# === Build FAISS index ===\n",
        "def build_faiss_cosine_index():\n",
        "    print(\"\\n🚀 Rebuilding FAISS index with cosine similarity\")\n",
        "    state = load_checkpoint()\n",
        "    docnos, embeddings = [], []\n",
        "\n",
        "    # --- Added check for directory existence ---\n",
        "    if not os.path.exists(INPUT_DIR):\n",
        "        print(f\"❌ Error: Input directory not found: {INPUT_DIR}\")\n",
        "        print(\"Please ensure Google Drive is mounted correctly and the path is accurate.\")\n",
        "        return\n",
        "    # --------------------------------------------\n",
        "\n",
        "    all_files = sorted(f for f in os.listdir(INPUT_DIR) if f.endswith('.json'))\n",
        "    start_idx = all_files.index(state['last_file']) + 1 if state['last_file'] in all_files else 0\n",
        "\n",
        "    for file in tqdm(all_files[start_idx:], initial=start_idx, total=len(all_files)):\n",
        "        try:\n",
        "            with open(os.path.join(INPUT_DIR, file)) as f:\n",
        "                doc = json.load(f)\n",
        "\n",
        "            title = doc.get(\"title\", \"\")\n",
        "            abstract = \" \".join(doc.get(\"abstract\", \"\").split()[:100])\n",
        "\n",
        "            claims_raw = doc.get(\"claims\", \"\")\n",
        "            if isinstance(claims_raw, list):\n",
        "                claims_text = \" \".join(claims_raw)\n",
        "            else:\n",
        "                claims_text = claims_raw\n",
        "            claims = \" \".join(claims_text.split()[:300])\n",
        "\n",
        "            description = \" \".join(doc.get(\"description\", \"\").split()[:300])\n",
        "            text = f\"{title} {abstract} {claims} {description}\".strip()\n",
        "\n",
        "            if not text or len(text.split()) < 10:\n",
        "                continue\n",
        "\n",
        "            emb = model.encode(text, normalize_embeddings=True)\n",
        "            docnos.append(doc.get(\"docno\", file.replace(\".json\", \"\")))\n",
        "            embeddings.append(emb.astype('float32'))\n",
        "\n",
        "            state['processed'].append(file)\n",
        "            state['last_file'] = file\n",
        "            if len(state['processed']) % 100 == 0:\n",
        "                save_checkpoint(state)\n",
        "\n",
        "        except Exception as e:\n",
        "            print(f\"⚠️ Error processing {file}: {e}\")\n",
        "\n",
        "    save_checkpoint(state)\n",
        "    print(f\"✅ Done encoding {len(docnos)} documents\")\n",
        "\n",
        "    if len(embeddings) == 0:\n",
        "        print(\"❌ No valid documents found for indexing. Exiting.\")\n",
        "        return\n",
        "\n",
        "    matrix = np.stack(embeddings).astype('float32')\n",
        "    dim = matrix.shape[1]\n",
        "    index = faiss.IndexFlatIP(dim)\n",
        "    index.add(matrix)\n",
        "\n",
        "    faiss.write_index(index, INDEX_PATH)\n",
        "    np.save(DOCNO_PATH, np.array(docnos))\n",
        "    print(f\"✅ Index and docnos saved. Total vectors: {index.ntotal}, dim={dim}\")\n",
        "\n",
        "# === Run\n",
        "build_faiss_cosine_index()"
      ]
    }
  ],
  "metadata": {
    "accelerator": "GPU",
    "colab": {
      "gpuType": "T4",
      "provenance": []
    },
    "kernelspec": {
      "display_name": "Python 3",
      "name": "python3"
    },
    "language_info": {
      "name": "python"
    },
    "widgets": {
      "application/vnd.jupyter.widget-state+json": {
        "0b56742ad57f46d8aa4e36e975d766f1": {
          "model_module": "@jupyter-widgets/controls",
          "model_module_version": "1.5.0",
          "model_name": "HBoxModel",
          "state": {
            "_dom_classes": [],
            "_model_module": "@jupyter-widgets/controls",
            "_model_module_version": "1.5.0",
            "_model_name": "HBoxModel",
            "_view_count": null,
            "_view_module": "@jupyter-widgets/controls",
            "_view_module_version": "1.5.0",
            "_view_name": "HBoxView",
            "box_style": "",
            "children": [
              "IPY_MODEL_a0a51f46f0b349d4bd030749b710e1cc",
              "IPY_MODEL_39171a3b3d414439a30a0d243f11049b",
              "IPY_MODEL_ebb8114de73a4c1b8a095d601c14fb39"
            ],
            "layout": "IPY_MODEL_484b81b05a6042f1952f40972459f9ee"
          }
        },
        "178665dc47154ffa860cfaf8ac46c75a": {
          "model_module": "@jupyter-widgets/controls",
          "model_module_version": "1.5.0",
          "model_name": "DescriptionStyleModel",
          "state": {
            "_model_module": "@jupyter-widgets/controls",
            "_model_module_version": "1.5.0",
            "_model_name": "DescriptionStyleModel",
            "_view_count": null,
            "_view_module": "@jupyter-widgets/base",
            "_view_module_version": "1.2.0",
            "_view_name": "StyleView",
            "description_width": ""
          }
        },
        "18ea3c9ec0fc44ee987f8ad61b1d118b": {
          "model_module": "@jupyter-widgets/controls",
          "model_module_version": "1.5.0",
          "model_name": "ProgressStyleModel",
          "state": {
            "_model_module": "@jupyter-widgets/controls",
            "_model_module_version": "1.5.0",
            "_model_name": "ProgressStyleModel",
            "_view_count": null,
            "_view_module": "@jupyter-widgets/base",
            "_view_module_version": "1.2.0",
            "_view_name": "StyleView",
            "bar_color": null,
            "description_width": ""
          }
        },
        "304c0eab5eee43fa8409de2574e4e903": {
          "model_module": "@jupyter-widgets/controls",
          "model_module_version": "1.5.0",
          "model_name": "DescriptionStyleModel",
          "state": {
            "_model_module": "@jupyter-widgets/controls",
            "_model_module_version": "1.5.0",
            "_model_name": "DescriptionStyleModel",
            "_view_count": null,
            "_view_module": "@jupyter-widgets/base",
            "_view_module_version": "1.2.0",
            "_view_name": "StyleView",
            "description_width": ""
          }
        },
        "39171a3b3d414439a30a0d243f11049b": {
          "model_module": "@jupyter-widgets/controls",
          "model_module_version": "1.5.0",
          "model_name": "FloatProgressModel",
          "state": {
            "_dom_classes": [],
            "_model_module": "@jupyter-widgets/controls",
            "_model_module_version": "1.5.0",
            "_model_name": "FloatProgressModel",
            "_view_count": null,
            "_view_module": "@jupyter-widgets/controls",
            "_view_module_version": "1.5.0",
            "_view_name": "ProgressView",
            "bar_style": "success",
            "description": "",
            "description_tooltip": null,
            "layout": "IPY_MODEL_c1b45ac6a72c40319b5f4f4d41a72695",
            "max": 63923,
            "min": 0,
            "orientation": "horizontal",
            "style": "IPY_MODEL_18ea3c9ec0fc44ee987f8ad61b1d118b",
            "value": 63923
          }
        },
        "484b81b05a6042f1952f40972459f9ee": {
          "model_module": "@jupyter-widgets/base",
          "model_module_version": "1.2.0",
          "model_name": "LayoutModel",
          "state": {
            "_model_module": "@jupyter-widgets/base",
            "_model_module_version": "1.2.0",
            "_model_name": "LayoutModel",
            "_view_count": null,
            "_view_module": "@jupyter-widgets/base",
            "_view_module_version": "1.2.0",
            "_view_name": "LayoutView",
            "align_content": null,
            "align_items": null,
            "align_self": null,
            "border": null,
            "bottom": null,
            "display": null,
            "flex": null,
            "flex_flow": null,
            "grid_area": null,
            "grid_auto_columns": null,
            "grid_auto_flow": null,
            "grid_auto_rows": null,
            "grid_column": null,
            "grid_gap": null,
            "grid_row": null,
            "grid_template_areas": null,
            "grid_template_columns": null,
            "grid_template_rows": null,
            "height": null,
            "justify_content": null,
            "justify_items": null,
            "left": null,
            "margin": null,
            "max_height": null,
            "max_width": null,
            "min_height": null,
            "min_width": null,
            "object_fit": null,
            "object_position": null,
            "order": null,
            "overflow": null,
            "overflow_x": null,
            "overflow_y": null,
            "padding": null,
            "right": null,
            "top": null,
            "visibility": null,
            "width": null
          }
        },
        "a0a51f46f0b349d4bd030749b710e1cc": {
          "model_module": "@jupyter-widgets/controls",
          "model_module_version": "1.5.0",
          "model_name": "HTMLModel",
          "state": {
            "_dom_classes": [],
            "_model_module": "@jupyter-widgets/controls",
            "_model_module_version": "1.5.0",
            "_model_name": "HTMLModel",
            "_view_count": null,
            "_view_module": "@jupyter-widgets/controls",
            "_view_module_version": "1.5.0",
            "_view_name": "HTMLView",
            "description": "",
            "description_tooltip": null,
            "layout": "IPY_MODEL_fa5ac52639bc43119a794fe0d38dabbc",
            "placeholder": "​",
            "style": "IPY_MODEL_304c0eab5eee43fa8409de2574e4e903",
            "value": "100%"
          }
        },
        "c1b45ac6a72c40319b5f4f4d41a72695": {
          "model_module": "@jupyter-widgets/base",
          "model_module_version": "1.2.0",
          "model_name": "LayoutModel",
          "state": {
            "_model_module": "@jupyter-widgets/base",
            "_model_module_version": "1.2.0",
            "_model_name": "LayoutModel",
            "_view_count": null,
            "_view_module": "@jupyter-widgets/base",
            "_view_module_version": "1.2.0",
            "_view_name": "LayoutView",
            "align_content": null,
            "align_items": null,
            "align_self": null,
            "border": null,
            "bottom": null,
            "display": null,
            "flex": null,
            "flex_flow": null,
            "grid_area": null,
            "grid_auto_columns": null,
            "grid_auto_flow": null,
            "grid_auto_rows": null,
            "grid_column": null,
            "grid_gap": null,
            "grid_row": null,
            "grid_template_areas": null,
            "grid_template_columns": null,
            "grid_template_rows": null,
            "height": null,
            "justify_content": null,
            "justify_items": null,
            "left": null,
            "margin": null,
            "max_height": null,
            "max_width": null,
            "min_height": null,
            "min_width": null,
            "object_fit": null,
            "object_position": null,
            "order": null,
            "overflow": null,
            "overflow_x": null,
            "overflow_y": null,
            "padding": null,
            "right": null,
            "top": null,
            "visibility": null,
            "width": null
          }
        },
        "d49a3a2a490043379519c4c4fca9c57f": {
          "model_module": "@jupyter-widgets/base",
          "model_module_version": "1.2.0",
          "model_name": "LayoutModel",
          "state": {
            "_model_module": "@jupyter-widgets/base",
            "_model_module_version": "1.2.0",
            "_model_name": "LayoutModel",
            "_view_count": null,
            "_view_module": "@jupyter-widgets/base",
            "_view_module_version": "1.2.0",
            "_view_name": "LayoutView",
            "align_content": null,
            "align_items": null,
            "align_self": null,
            "border": null,
            "bottom": null,
            "display": null,
            "flex": null,
            "flex_flow": null,
            "grid_area": null,
            "grid_auto_columns": null,
            "grid_auto_flow": null,
            "grid_auto_rows": null,
            "grid_column": null,
            "grid_gap": null,
            "grid_row": null,
            "grid_template_areas": null,
            "grid_template_columns": null,
            "grid_template_rows": null,
            "height": null,
            "justify_content": null,
            "justify_items": null,
            "left": null,
            "margin": null,
            "max_height": null,
            "max_width": null,
            "min_height": null,
            "min_width": null,
            "object_fit": null,
            "object_position": null,
            "order": null,
            "overflow": null,
            "overflow_x": null,
            "overflow_y": null,
            "padding": null,
            "right": null,
            "top": null,
            "visibility": null,
            "width": null
          }
        },
        "ebb8114de73a4c1b8a095d601c14fb39": {
          "model_module": "@jupyter-widgets/controls",
          "model_module_version": "1.5.0",
          "model_name": "HTMLModel",
          "state": {
            "_dom_classes": [],
            "_model_module": "@jupyter-widgets/controls",
            "_model_module_version": "1.5.0",
            "_model_name": "HTMLModel",
            "_view_count": null,
            "_view_module": "@jupyter-widgets/controls",
            "_view_module_version": "1.5.0",
            "_view_name": "HTMLView",
            "description": "",
            "description_tooltip": null,
            "layout": "IPY_MODEL_d49a3a2a490043379519c4c4fca9c57f",
            "placeholder": "​",
            "style": "IPY_MODEL_178665dc47154ffa860cfaf8ac46c75a",
            "value": " 63923/63923 [7:10:32&lt;00:00,  2.31it/s]"
          }
        },
        "fa5ac52639bc43119a794fe0d38dabbc": {
          "model_module": "@jupyter-widgets/base",
          "model_module_version": "1.2.0",
          "model_name": "LayoutModel",
          "state": {
            "_model_module": "@jupyter-widgets/base",
            "_model_module_version": "1.2.0",
            "_model_name": "LayoutModel",
            "_view_count": null,
            "_view_module": "@jupyter-widgets/base",
            "_view_module_version": "1.2.0",
            "_view_name": "LayoutView",
            "align_content": null,
            "align_items": null,
            "align_self": null,
            "border": null,
            "bottom": null,
            "display": null,
            "flex": null,
            "flex_flow": null,
            "grid_area": null,
            "grid_auto_columns": null,
            "grid_auto_flow": null,
            "grid_auto_rows": null,
            "grid_column": null,
            "grid_gap": null,
            "grid_row": null,
            "grid_template_areas": null,
            "grid_template_columns": null,
            "grid_template_rows": null,
            "height": null,
            "justify_content": null,
            "justify_items": null,
            "left": null,
            "margin": null,
            "max_height": null,
            "max_width": null,
            "min_height": null,
            "min_width": null,
            "object_fit": null,
            "object_position": null,
            "order": null,
            "overflow": null,
            "overflow_x": null,
            "overflow_y": null,
            "padding": null,
            "right": null,
            "top": null,
            "visibility": null,
            "width": null
          }
        }
      }
    }
  },
  "nbformat": 4,
  "nbformat_minor": 0
}